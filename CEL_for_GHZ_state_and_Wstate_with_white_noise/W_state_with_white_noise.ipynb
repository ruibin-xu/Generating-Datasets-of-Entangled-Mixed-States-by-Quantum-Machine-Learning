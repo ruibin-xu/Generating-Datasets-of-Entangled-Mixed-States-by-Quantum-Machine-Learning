{
 "cells": [
  {
   "cell_type": "code",
   "execution_count": null,
   "metadata": {},
   "outputs": [],
   "source": [
    "import numpy as np\n",
    "import pennylane as qml"
   ]
  },
  {
   "cell_type": "code",
   "execution_count": 2,
   "metadata": {},
   "outputs": [],
   "source": [
    "\n",
    "def U(theta):\n",
    "    cos_half_theta = np.cos(theta / 2)\n",
    "    sin_half_theta = np.sin(theta / 2)\n",
    "    ry_matrix = np.array([\n",
    "        [cos_half_theta, sin_half_theta],\n",
    "        [-1*sin_half_theta, cos_half_theta]\n",
    "    ])\n",
    "    return ry_matrix\n"
   ]
  },
  {
   "cell_type": "code",
   "execution_count": 3,
   "metadata": {},
   "outputs": [],
   "source": [
    "def W_state(start_wire,dimension,psi):\n",
    "    qml.RY(psi,start_wire)\n",
    "    qml.PauliX(start_wire+dimension+1)\n",
    "    qml.CNOT([start_wire,start_wire+dimension+1])\n",
    "    for i in range (start_wire+dimension+1,start_wire+2*dimension):\n",
    "        angle=2*np.arccos(np.sqrt(1/(2*dimension-i+1+start_wire)))\n",
    "        qml.CRY((angle),[i,i+1])\n",
    "        u=U(angle)\n",
    "        qml.ControlledQubitUnitary(u, control_wires=[start_wire, i], wires=i+1)\n",
    "        qml.CNOT([i+1,i])\n",
    "        qml.MultiControlledX(control_wires=[start_wire,i+1],wires=[i])\n",
    "    for i in range (start_wire+1,start_wire+dimension+1):\n",
    "        qml.ctrl(qml.Hadamard,start_wire)(i)\n",
    "    for i in range (start_wire+dimension+1,start_wire+2*dimension+1):\n",
    "        qml.MultiControlledX([start_wire,i-dimension],i)"
   ]
  },
  {
   "cell_type": "code",
   "execution_count": 4,
   "metadata": {},
   "outputs": [],
   "source": [
    "dev_swap = qml.device(\"lightning.gpu\", wires=17)\n",
    "@qml.qnode(dev_swap)\n",
    "def Swap_w_state(dimension,psi):\n",
    "    # for i in range(5*dimension+2):\n",
    "    #     qml.Hadamard(i)\n",
    "    for i in range(dimension):\n",
    "        qml.Hadamard(i)\n",
    "    W_state(dimension,dimension,psi)\n",
    "    W_state(3*dimension+1,dimension,psi)\n",
    "    for i in range (dimension):\n",
    "        qml.CSWAP([i,i+2*dimension+1,i+4*dimension+2])\n",
    "    for i in range (dimension):\n",
    "        qml.Hadamard(i)\n",
    "    return(qml.probs([i for i in range (dimension)]))"
   ]
  },
  {
   "cell_type": "code",
   "execution_count": 5,
   "metadata": {},
   "outputs": [],
   "source": [
    "dev_density = qml.device(\"lightning.gpu\", wires=17)\n",
    "@qml.qnode(dev_density)\n",
    "def density_w_state(dimension,psi):\n",
    "    W_state(0,dimension,psi)\n",
    "    return qml.density_matrix([i for i in range (2*dimension-dimension+1+0,2*dimension+1+0)])"
   ]
  },
  {
   "cell_type": "code",
   "execution_count": 7,
   "metadata": {},
   "outputs": [
    {
     "name": "stdout",
     "output_type": "stream",
     "text": [
      "0: ──RY(0.00)─╭●───────────╭●────────╭●───────────╭●────────╭●─╭●─╭●─╭●─╭●─╭●─╭●─┤       \n",
      "1: ───────────│────────────│─────────│────────────│─────────│──╰H─│──│──├●─│──│──┤       \n",
      "2: ───────────│────────────│─────────│────────────│─────────│─────╰H─│──│──├●─│──┤       \n",
      "3: ───────────│────────────│─────────│────────────│─────────│────────╰H─│──│──├●─┤       \n",
      "4: ──X────────╰X─╭●────────├●─────╭X─├X───────────│─────────│───────────╰X─│──│──┤ ╭State\n",
      "5: ──────────────╰RY(1.91)─╰U(M0)─╰●─╰●─╭●────────├●─────╭X─├X─────────────╰X─│──┤ ├State\n",
      "6: ─────────────────────────────────────╰RY(1.57)─╰U(M1)─╰●─╰●────────────────╰X─┤ ╰State\n",
      "M0 = \n",
      "[[ 0.57735027  0.81649658]\n",
      " [-0.81649658  0.57735027]]\n",
      "M1 = \n",
      "[[ 0.70710678  0.70710678]\n",
      " [-0.70710678  0.70710678]]\n"
     ]
    },
    {
     "name": "stderr",
     "output_type": "stream",
     "text": [
      "/home/ruibinx/.local/lib/python3.9/site-packages/pennylane/ops/qubit/non_parametric_ops.py:2095: UserWarning: The control_wires keyword will be removed soon. Use wires = (control_wires, target_wire) instead. See the documentation for more information.\n",
      "  warnings.warn(\n"
     ]
    }
   ],
   "source": [
    "drawer = qml.draw(density_w_state)\n",
    "print(drawer(3,0))"
   ]
  },
  {
   "cell_type": "code",
   "execution_count": null,
   "metadata": {},
   "outputs": [],
   "source": [
    "def classical(p, n):\n",
    "    term1 = ((n - 1) * p**2) / (2 * n)\n",
    "    term2 = (1 - p**2) * (2 / (2**n) - 1 / (4**n) - (3 / 4)**n)\n",
    "    result = term1 + term2\n",
    "    return result\n",
    "def CE(n,i):\n",
    "    w=density_w_state(n,i)\n",
    "    P=np.trace(np.dot(w,w))\n",
    "    sum_=Swap_w_state(n,i)[0]\n",
    "    return(1/2**n+(1-1/2**n)*P-sum_)"
   ]
  },
  {
   "cell_type": "code",
   "execution_count": null,
   "metadata": {},
   "outputs": [],
   "source": []
  }
 ],
 "metadata": {
  "kernelspec": {
   "display_name": "pennylane_env1",
   "language": "python",
   "name": "python3"
  },
  "language_info": {
   "codemirror_mode": {
    "name": "ipython",
    "version": 3
   },
   "file_extension": ".py",
   "mimetype": "text/x-python",
   "name": "python",
   "nbconvert_exporter": "python",
   "pygments_lexer": "ipython3",
   "version": "3.9.20"
  }
 },
 "nbformat": 4,
 "nbformat_minor": 2
}
