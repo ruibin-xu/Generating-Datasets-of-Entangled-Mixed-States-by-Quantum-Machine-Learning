{
 "cells": [
  {
   "cell_type": "code",
   "execution_count": null,
   "metadata": {},
   "outputs": [],
   "source": [
    "import h5py\n",
    "from pennylane import numpy as np\n",
    "\n",
    "def write_to_new_hdf5(filename, dataset_name, data):\n",
    "    # Check if file exists, if not create it\n",
    "    if not os.path.isfile(filename):\n",
    "        with h5py.File(filename, 'w') as f:\n",
    "            # Create dataset and store data\n",
    "            dset = f.create_dataset(dataset_name, data=data)\n",
    "            print(f\"Data stored in file: {filename}, in dataset: {dataset_name}\")\n",
    "    else:\n",
    "        print(f\"File {filename} already exists, no write operation performed.\")\n",
    "\n",
    "def write_to_existing_hdf5(filename, dataset_name, data):\n",
    "    # Check if file exists\n",
    "    if os.path.isfile(filename):\n",
    "        with h5py.File(filename, 'a') as f:\n",
    "            if dataset_name in f:\n",
    "                print(f\"Dataset {dataset_name} already exists, no write operation performed.\")\n",
    "            else:\n",
    "                # Create new dataset and store data\n",
    "                dset = f.create_dataset(dataset_name, data=data)\n",
    "                print(f\"Data stored in file: {filename}, in dataset: {dataset_name}\")\n",
    "    else:\n",
    "        # File doesn't exist, create file and write data\n",
    "        with h5py.File(filename, 'w') as f:\n",
    "            dset = f.create_dataset(dataset_name, data=data)\n",
    "            print(f\"Data stored in file: {filename}, in dataset: {dataset_name}\")"
   ]
  },
  {
   "cell_type": "code",
   "execution_count": null,
   "metadata": {},
   "outputs": [],
   "source": [
    "import os\n",
    "\n",
    "def append_to_hdf5(filename, dataset_name, data):\n",
    "    \"\"\"\n",
    "    If the file exists, open it and append data; if the file doesn't exist, create it and write data.\n",
    "    \n",
    "    Parameters:\n",
    "    filename (str): Name of the HDF5 file.\n",
    "    dataset_name (str): Name of the dataset.\n",
    "    data (np.ndarray): NumPy array to be appended.\n",
    "    \"\"\"\n",
    "    # Check if file exists\n",
    "    if os.path.isfile(filename):\n",
    "        with h5py.File(filename, 'a') as f:\n",
    "            if dataset_name in f:\n",
    "                # If dataset exists, get its current size\n",
    "                current_size = f[dataset_name].shape[0]\n",
    "                # Calculate new total size\n",
    "                new_size = current_size + data.shape[0]\n",
    "                # Resize the dataset to accommodate new data\n",
    "                f[dataset_name].resize(new_size, axis=0)\n",
    "                # Append new data to the dataset\n",
    "                f[dataset_name][current_size:new_size] = data\n",
    "                print(f\"Data appended to file: {filename}, in dataset: {dataset_name}\")\n",
    "            else:\n",
    "                print(f\"Dataset {dataset_name} does not exist, no append operation performed.\")\n",
    "    else:\n",
    "        # File doesn't exist, create file and write data\n",
    "        with h5py.File(filename, 'w') as f:\n",
    "            dset = f.create_dataset(dataset_name, data=data)\n",
    "            print(f\"Data stored in file: {filename}, in dataset: {dataset_name}\")"
   ]
  },
  {
   "cell_type": "code",
   "execution_count": null,
   "metadata": {},
   "outputs": [],
   "source": [
    "def read_from_hdf5(filename, dataset_name):\n",
    "    \"\"\"\n",
    "    Open an existing HDF5 file and read the specified dataset.\n",
    "    \n",
    "    Parameters:\n",
    "    filename (str): Name of the HDF5 file.\n",
    "    dataset_name (str): Name of the dataset.\n",
    "    \n",
    "    Returns:\n",
    "    np.ndarray: The read NumPy array, or None if not found.\n",
    "    \"\"\"\n",
    "    # Check if file exists\n",
    "    if os.path.isfile(filename):\n",
    "        with h5py.File(filename, 'r') as f:\n",
    "            if dataset_name in f:\n",
    "                data = f[dataset_name][:]\n",
    "                print(f\"Data read from file {filename}, dataset: {dataset_name}\")\n",
    "                return data\n",
    "            else:\n",
    "                print(f\"Dataset {dataset_name} does not exist.\")\n",
    "                return None\n",
    "    else:\n",
    "        print(f\"File {filename} does not exist.\")\n",
    "        return None"
   ]
  },
  {
   "cell_type": "code",
   "execution_count": null,
   "metadata": {},
   "outputs": [],
   "source": []
  }
 ],
 "metadata": {
  "kernelspec": {
   "display_name": "pennylane_env1",
   "language": "python",
   "name": "python3"
  },
  "language_info": {
   "codemirror_mode": {
    "name": "ipython",
    "version": 3
   },
   "file_extension": ".py",
   "mimetype": "text/x-python",
   "name": "python",
   "nbconvert_exporter": "python",
   "pygments_lexer": "ipython3",
   "version": "3.9.20"
  }
 },
 "nbformat": 4,
 "nbformat_minor": 2
}
