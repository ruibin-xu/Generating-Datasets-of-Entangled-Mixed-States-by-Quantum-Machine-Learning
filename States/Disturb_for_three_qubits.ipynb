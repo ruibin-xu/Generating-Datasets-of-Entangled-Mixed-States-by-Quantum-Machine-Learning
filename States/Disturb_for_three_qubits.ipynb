{
 "cells": [
  {
   "cell_type": "code",
   "execution_count": 1,
   "metadata": {},
   "outputs": [],
   "source": [
    "import pennylane as qml\n",
    "import numpy as ap\n",
    "import matplotlib.pyplot as plt\n",
    "from jax import numpy as np\n",
    "import jax\n",
    "jax.config.update(\"jax_enable_x64\", True)"
   ]
  },
  {
   "cell_type": "code",
   "execution_count": null,
   "metadata": {},
   "outputs": [],
   "source": [
    "dev1 = qml.device('lightning.qubit', wires=18)  # Create a quantum device\n",
    "\n",
    "@qml.qnode(dev1)\n",
    "def parallelized_swap_circuit(m, parameters, weights):\n",
    "    # First register is range(0, m)\n",
    "    first_register = list(range(m))\n",
    "    \n",
    "    # Second register is range(m, m+m+1) = range(m, 2*m+1)\n",
    "    second_register = list(range(m, 2*m+1))\n",
    "    \n",
    "    # Third register is range(2*m+1, 3*m+2) = range(2*m+1, 3*m+2)\n",
    "    third_register = list(range(2*m+1, 3*m+2))\n",
    "\n",
    "    # Apply Hadamard gates to first register\n",
    "    for i in first_register:\n",
    "        qml.Hadamard(wires=i)\n",
    "\n",
    "    # Apply strong entanglement layer to second and third registers\n",
    "    qml.RZ(weights[0], wires=second_register[1])\n",
    "    qml.RY(weights[1], wires=second_register[1])\n",
    "    qml.RZ(weights[2], wires=second_register[1])\n",
    "    qml.RZ(weights[0], wires=third_register[1])\n",
    "    qml.RY(weights[1], wires=third_register[1])\n",
    "    qml.RZ(weights[2], wires=third_register[1])\n",
    "    qml.StronglyEntanglingLayers(weights=parameters, wires=second_register)\n",
    "    qml.StronglyEntanglingLayers(weights=parameters, wires=third_register)\n",
    "\n",
    "    # Apply CSWAP gates between registers\n",
    "    for i in range(m):\n",
    "        qml.CSWAP(wires=[i, second_register[i+1], third_register[i+1]])\n",
    "\n",
    "    # Re-apply Hadamard gates to first register\n",
    "    for i in first_register:\n",
    "        qml.Hadamard(wires=i)\n",
    "\n",
    "    # Return probabilities of the first register\n",
    "    return qml.probs(wires=first_register)"
   ]
  },
  {
   "cell_type": "code",
   "execution_count": null,
   "metadata": {},
   "outputs": [],
   "source": [
    "dev2 = qml.device('default.qubit', wires=18)  # Create a quantum device\n",
    "\n",
    "@qml.qnode(dev2)\n",
    "def density_circuit(m, parameters, weights):\n",
    "    # First register is range(0, m+1)\n",
    "    first_register = list(range(m+1))\n",
    "    \n",
    "    # Apply single-qubit rotations to the second qubit in the first register\n",
    "    qml.RZ(weights[0], wires=first_register[1])\n",
    "    qml.RY(weights[1], wires=first_register[1])\n",
    "    qml.RZ(weights[2], wires=first_register[1])\n",
    "    \n",
    "    # Apply strongly entangling layers to the entire first register\n",
    "    qml.StronglyEntanglingLayers(weights=parameters, wires=first_register)\n",
    "    \n",
    "    # Return the reduced density matrix of all qubits except the first one\n",
    "    return qml.density_matrix(wires=first_register[1:])"
   ]
  },
  {
   "cell_type": "code",
   "execution_count": 4,
   "metadata": {},
   "outputs": [],
   "source": [
    "def lower_bound(m,parameters,weights):\n",
    "    probability,density_matrix=Parallized_swap_circuit(m,parameters,weights),density_circuit(m,parameters,weights)\n",
    "    P=np.abs(np.trace(np.dot(density_matrix,density_matrix)))\n",
    "    return(1/2**m+(1-1/2**m)*P-probability[0])"
   ]
  },
  {
   "cell_type": "code",
   "execution_count": null,
   "metadata": {},
   "outputs": [],
   "source": [
    "# Weights array extracted from trained model parameters\n",
    "weights = np.array([\n",
    "    # First layer parameters\n",
    "    [[ 0.3745401 ,  0.54911088,  1.24609457],\n",
    "     [ 0.59865847, -0.31313117,  0.52250323],\n",
    "     [ 0.0580836 ,  1.15064753,  0.28680257],\n",
    "     [ 0.70807256,  0.49243661,  0.99629098]],\n",
    "\n",
    "    # Second layer parameters  \n",
    "    [[ 0.30961435, -0.27116542, -0.35740497],\n",
    "     [ 0.60261284, -0.24929507,  0.97899436],\n",
    "     [-0.12360435, -0.11431352,  0.10323433],\n",
    "     [-0.35048157, -0.08254909, -0.03491928]],\n",
    "\n",
    "    # Third layer parameters\n",
    "    [[-0.05254858,  0.24620135,  0.29268646],\n",
    "     [ 0.11295332,  0.1464061 ,  0.04645042],\n",
    "     [ 0.60754485,  0.17052413,  0.06505159],\n",
    "     [ 0.59997623,  1.36930842,  0.43382239]]\n",
    "])"
   ]
  },
  {
   "cell_type": "code",
   "execution_count": null,
   "metadata": {},
   "outputs": [],
   "source": [
    "# Define amplitude values for testing\n",
    "a_values = [0.25, 0.5, 0.75, 1.0]\n",
    "\n",
    "# Initialize a dictionary to store results for each amplitude\n",
    "results = {a: [] for a in a_values}\n",
    "\n",
    "# Monte Carlo simulation for each amplitude value\n",
    "for a in a_values:\n",
    "    # Perform 1000 trials for statistical significance\n",
    "    for _ in range(1000):\n",
    "        # Generate random parameters within [-a, a] range\n",
    "        random_params = np.random.uniform(-a, a, size=3)\n",
    "        \n",
    "        # Calculate lower bound using our quantum circuit\n",
    "        bound_value = lower_bound(\n",
    "            m=3,                # Number of qubits in first register\n",
    "            parameters=weights, # Pre-trained quantum circuit weights\n",
    "            random_numbers=random_params  # Random parameters for this trial\n",
    "        )\n",
    "        \n",
    "        # Store the result\n",
    "        results[a].append(bound_value)\n",
    "\n",
    "# Note: The lower_bound function should be defined elsewhere\n",
    "# It presumably uses the quantum circuits we defined earlier\n",
    "# (parallelized_swap_circuit and density_circuit)"
   ]
  },
  {
   "cell_type": "code",
   "execution_count": null,
   "metadata": {},
   "outputs": [],
   "source": [
    "# Extract and store results for each amplitude value\n",
    "pi_results1 = results[0.25]  # Results for a = 0.25\n",
    "pi_results2 = results[0.5]    # Results for a = 0.5 (π/8 equivalent commented out)\n",
    "pi_results3 = results[0.75]   # Results for a = 0.75\n",
    "pi_results4 = results[1.0]    # Results for a = 1.0\n",
    "\n",
    "# Print summary statistics for each amplitude\n",
    "print(\"\\nResults Summary:\")\n",
    "print(f\"a = 0.25: {len(pi_results1)} samples, mean: {np.mean(pi_results1):.4f}\")\n",
    "print(f\"a = 0.50: {len(pi_results2)} samples, mean: {np.mean(pi_results2):.4f}\") \n",
    "print(f\"a = 0.75: {len(pi_results3)} samples, mean: {np.mean(pi_results3):.4f}\")\n",
    "print(f\"a = 1.00: {len(pi_results4)} samples, mean: {np.mean(pi_results4):.4f}\")\n",
    "\n",
    "# Note: The commented-out π-related values suggest this might be testing \n",
    "# quantum phase estimation or amplitude encoding applications"
   ]
  },
  {
   "cell_type": "code",
   "execution_count": null,
   "metadata": {},
   "outputs": [
    {
     "data": {
      "image/png": "[encoded data removed]",
      "text/plain": [
       "<Figure size 500x300 with 1 Axes>"
      ]
     },
     "metadata": {},
     "output_type": "display_data"
    }
   ],
   "source": [
    "\n",
    "from matplotlib.ticker import MaxNLocator\n",
    "\n",
    "import seaborn as sns\n",
    "\n",
    "plt.figure(figsize=(5, 3))\n",
    "\n",
    "\n",
    "sns.kdeplot(np.array(pi_results1), label='$\\epsilon=0.25$', fill=True,bw_adjust=2,color=\"#205EA8\",alpha=0.8,lw=1)\n",
    "sns.kdeplot(np.array(pi_results2), label='$\\epsilon=0.5$', fill=True,bw_adjust=2,color=\"#1D91C2\",alpha=0.8,lw=1)\n",
    "sns.kdeplot(np.array(pi_results3), label='$\\epsilon=0.75$', fill=True,bw_adjust=2,color=\"#38B6C4\",alpha=0.8,lw=1)\n",
    "sns.kdeplot(np.array(pi_results4), label='$\\epsilon=1$', fill=True,bw_adjust=2,color=\"#7ECBBB\",alpha=0.8,lw=1)\n",
    "# sns.kdeplot(np.array(pi_results2), label='$\\epsilon=0.25$', fill=True,bw_adjust=2,color=\"#D5EBF2\",alpha=0.8,lw=2)\n",
    "# sns.kdeplot(np.array(pi_results3), label='$\\epsilon=0.5$', fill=True,bw_adjust=2,color=\"#96ABF2\",alpha=0.6,lw=2)\n",
    "# sns.kdeplot(np.array(pi_results4), label='$\\epsilon=0.75$', fill=True,bw_adjust=2,color=\"#5B9BC8\",alpha=0.4,lw=2)\n",
    "# sns.kdeplot(np.array(pi_results1), label='$\\epsilon=1$', fill=True,bw_adjust=2,color=\"#FFEAD8\",alpha=0.2,lw=2)\n",
    "\n",
    "plt.legend(loc='upper left')\n",
    "\n",
    "\n",
    "plt.xlabel('CEL')\n",
    "plt.ylabel('Density')\n",
    "\n",
    "ax = plt.gca() \n",
    "ax.xaxis.set_major_locator(MaxNLocator(nbins=5))\n",
    "plt.savefig('disturb_plot.pdf', dpi=600, bbox_inches='tight')\n",
    "\n",
    "plt.show()"
   ]
  },
  {
   "cell_type": "code",
   "execution_count": null,
   "metadata": {},
   "outputs": [],
   "source": []
  }
 ],
 "metadata": {
  "kernelspec": {
   "display_name": "pennylane_env1",
   "language": "python",
   "name": "python3"
  },
  "language_info": {
   "codemirror_mode": {
    "name": "ipython",
    "version": 3
   },
   "file_extension": ".py",
   "mimetype": "text/x-python",
   "name": "python",
   "nbconvert_exporter": "python",
   "pygments_lexer": "ipython3",
   "version": "3.9.20"
  }
 },
 "nbformat": 4,
 "nbformat_minor": 2
}
