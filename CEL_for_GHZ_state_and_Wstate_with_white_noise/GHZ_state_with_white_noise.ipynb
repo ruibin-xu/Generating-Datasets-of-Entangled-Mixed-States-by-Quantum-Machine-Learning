{
 "cells": [
  {
   "cell_type": "code",
   "execution_count": 2,
   "metadata": {},
   "outputs": [],
   "source": [
    "import numpy as np\n",
    "import pennylane as qml"
   ]
  },
  {
   "cell_type": "code",
   "execution_count": null,
   "metadata": {},
   "outputs": [],
   "source": [
    "def werner_state(start_wire,dimension,psi):\n",
    "    qml.RY(psi,start_wire)\n",
    "    qml.Hadamard(start_wire+dimension+1)\n",
    "    for i in range (start_wire+dimension+2,start_wire+2*dimension+1):\n",
    "        qml.CNOT([start_wire+dimension+1,i])\n",
    "    for i in range (start_wire+dimension+2,start_wire+2*dimension+1):\n",
    "        qml.MultiControlledX([start_wire,start_wire+dimension+1],i)\n",
    "    qml.ctrl(qml.Hadamard,start_wire)(start_wire+dimension+1)\n",
    "    for i in range (start_wire+1,start_wire+dimension+1):\n",
    "        qml.ctrl(qml.Hadamard,start_wire)(i)\n",
    "    for i in range (start_wire+dimension+1,start_wire+2*dimension+1):\n",
    "        qml.MultiControlledX([start_wire,i-dimension],i)\n"
   ]
  },
  {
   "cell_type": "code",
   "execution_count": 4,
   "metadata": {},
   "outputs": [],
   "source": [
    "dev_swap = qml.device(\"lightning.qubit\", wires=17)\n",
    "@qml.qnode(dev_swap)\n",
    "def SWAP_CE_werner_state(dimension,phi):\n",
    "    for i in range (dimension):\n",
    "        qml.Hadamard(i)\n",
    "    werner_state(dimension,dimension,phi)\n",
    "    werner_state(dimension+1+2*dimension,dimension,phi)\n",
    "    for i in range (dimension):\n",
    "        qml.CSWAP([i,i+2*dimension+1,i+4*dimension+2])\n",
    "    for i in range (dimension):\n",
    "        qml.Hadamard(i)\n",
    "    return (qml.probs([i for i in range (dimension)]))"
   ]
  },
  {
   "cell_type": "code",
   "execution_count": 5,
   "metadata": {},
   "outputs": [
    {
     "name": "stdout",
     "output_type": "stream",
     "text": [
      " 0: ──H─────────────────────────────╭●─────H───────┤ ╭Probs\n",
      " 1: ──H─────────────────────────────│─────╭●─────H─┤ ╰Probs\n",
      " 2: ──RY(0.00)────╭●─╭●─╭●─╭●─╭●─╭●─│─────│────────┤       \n",
      " 3: ──────────────│──│──╰H─│──├●─│──│─────│────────┤       \n",
      " 4: ──────────────│──│─────╰H─│──├●─│─────│────────┤       \n",
      " 5: ──H────────╭●─├●─╰H───────╰X─│──├SWAP─│────────┤       \n",
      " 6: ───────────╰X─╰X─────────────╰X─│─────├SWAP────┤       \n",
      " 7: ──RY(0.00)────╭●─╭●─╭●─╭●─╭●─╭●─│─────│────────┤       \n",
      " 8: ──────────────│──│──╰H─│──├●─│──│─────│────────┤       \n",
      " 9: ──────────────│──│─────╰H─│──├●─│─────│────────┤       \n",
      "10: ──H────────╭●─├●─╰H───────╰X─│──╰SWAP─│────────┤       \n",
      "11: ───────────╰X─╰X─────────────╰X───────╰SWAP────┤       \n"
     ]
    },
    {
     "name": "stderr",
     "output_type": "stream",
     "text": [
      "/home/ruibinx/.local/lib/python3.9/site-packages/pennylane/ops/qubit/non_parametric_ops.py:2095: UserWarning: The control_wires keyword will be removed soon. Use wires = (control_wires, target_wire) instead. See the documentation for more information.\n",
      "  warnings.warn(\n"
     ]
    }
   ],
   "source": [
    "drawer = qml.draw(SWAP_CE_werner_state)\n",
    "print(drawer(2,0))"
   ]
  },
  {
   "cell_type": "code",
   "execution_count": 6,
   "metadata": {},
   "outputs": [],
   "source": [
    "dev_density = qml.device(\"lightning.qubit\", wires=17)\n",
    "@qml.qnode(dev_density)\n",
    "def density_wener_state(dimension,psi):\n",
    "    werner_state(0,dimension,psi)\n",
    "    return qml.density_matrix([i for i in range (2*dimension-dimension+1+0,2*dimension+1+0)])"
   ]
  },
  {
   "cell_type": "code",
   "execution_count": null,
   "metadata": {},
   "outputs": [
    {
     "name": "stderr",
     "output_type": "stream",
     "text": [
      "/home/ruibinx/.local/lib/python3.9/site-packages/pennylane/ops/qubit/non_parametric_ops.py:2095: UserWarning: The control_wires keyword will be removed soon. Use wires = (control_wires, target_wire) instead. See the documentation for more information.\n",
      "  warnings.warn(\n"
     ]
    }
   ],
   "source": [
    "Phi = np.linspace(0, 2*np.pi, 50)\n",
    "def classical(n,i):\n",
    "    p=(np.cos(i/2))**2\n",
    "    w=density_wener_state(n,i)\n",
    "    Pu=np.trace(np.dot(w,w))\n",
    "    n1=(1-1/2**(n-1))*Pu\n",
    "    n2_1=(2**n-2)*p**2/2\n",
    "    n2=n2_1+(1-p**2)*(3**n-2**n-1)/2**n\n",
    "    n3=n2/2**n\n",
    "    return(n1-n3)\n",
    "def CE(n,i):\n",
    "    w=density_wener_state(n,i)\n",
    "    P=np.trace(np.dot(w,w))\n",
    "    sum_=SWAP_CE_werner_state(n,i)[0]\n",
    "    return(1/2**n+(1-1/2**n)*P-sum_)"
   ]
  }
 ],
 "metadata": {
  "kernelspec": {
   "display_name": "pennylane_env1",
   "language": "python",
   "name": "python3"
  },
  "language_info": {
   "codemirror_mode": {
    "name": "ipython",
    "version": 3
   },
   "file_extension": ".py",
   "mimetype": "text/x-python",
   "name": "python",
   "nbconvert_exporter": "python",
   "pygments_lexer": "ipython3",
   "version": "3.9.20"
  }
 },
 "nbformat": 4,
 "nbformat_minor": 2
}
