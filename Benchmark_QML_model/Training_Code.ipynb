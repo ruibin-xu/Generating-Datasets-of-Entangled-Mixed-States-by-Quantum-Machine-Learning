{
 "cells": [
  {
   "cell_type": "code",
   "execution_count": null,
   "id": "1fabd777",
   "metadata": {},
   "outputs": [],
   "source": [
    "import pennylane as qml\n",
    "from pennylane import numpy as np\n",
    "from sklearn.model_selection import train_test_split\n",
    "from pennylane.optimize import NesterovMomentumOptimizer"
   ]
  },
  {
   "cell_type": "code",
   "execution_count": null,
   "id": "8a6a223b",
   "metadata": {},
   "outputs": [],
   "source": [
    "%run DATA_encode.ipynb\n",
    "%run Simplified_two_design.ipynb\n",
    "%run Hardware_efficient_ansatz.ipynb\n",
    "sep_file4 = read_from_hdf5(\"Five_qubits_state_seperable.h5\",\"state\")\n",
    "eng_file4 = read_from_hdf5(\"Five_qubits_state_entangle.h5\",\"state\")"
   ]
  },
  {
   "cell_type": "code",
   "execution_count": null,
   "id": "429c9e09",
   "metadata": {},
   "outputs": [],
   "source": [
    "data=np.vstack((sep_file4,eng_file4 ))\n",
    "labels=[-1 for i in range (6000)]+[1 for i in range (6000)]\n",
    "X_train, X_test, y_train, y_test = train_test_split(data, labels, test_size=0.2, random_state=42)"
   ]
  },
  {
   "cell_type": "code",
   "execution_count": null,
   "id": "0c01d5fc",
   "metadata": {},
   "outputs": [],
   "source": [
    "dev6 = qml.device('default.qubit', wires=10)  \n",
    "@qml.qnode(dev6)\n",
    "def Classify_circuit(states,reduced_dimension,target_state_dimension,classify_dimesion,ansatz_type,weights):\n",
    "    # total_register=list(range(target_state_dimension+reduced_dimension))\n",
    "    state_register=list(range(target_state_dimension+reduced_dimension))\n",
    "    first_register = list(range(reduced_dimension+classify_dimesion))\n",
    "    classify_register=first_register[-classify_dimesion:]\n",
    "    qml.StatePrep(state=states,wires=state_register)\n",
    "    if ansatz_type == \"StronglyEntanglingLayers\":\n",
    "        qml.StronglyEntanglingLayers(wires=classify_register, weights=weights)\n",
    "    if ansatz_type == \"hardware_efficient_ansatz\":\n",
    "        hardware_efficient_ansatz(wires=classify_register, weights=weights)\n",
    "    if ansatz_type == \"simplified_two_design\":\n",
    "        simplified_two_design(wires=classify_register, weights=weights)\n",
    "    return qml.expval(qml.PauliZ(classify_register[-1])) "
   ]
  },
  {
   "cell_type": "code",
   "execution_count": null,
   "id": "07ffd464",
   "metadata": {},
   "outputs": [],
   "source": [
    "def square_loss(labels, predictions):\n",
    "    out=0\n",
    "    for index,element in enumerate(labels):\n",
    "        out+=(labels[index] - predictions[index]) ** 2\n",
    "    print(out)\n",
    "    # We use a call to qml.math.stack to allow subtracting the arrays directly\n",
    "    return out/len(labels)\n",
    "def accuracy(labels, predictions):\n",
    "    acc = sum(abs(l - p) < 1e-5 for l, p in zip(labels, predictions))\n",
    "    acc = acc / len(labels)\n",
    "    return acc"
   ]
  },
  {
   "cell_type": "code",
   "execution_count": null,
   "id": "ff8b4f30",
   "metadata": {},
   "outputs": [],
   "source": [
    "toltal_cost=[]\n",
    "save_weights=[]\n",
    "toltal_acc=[]\n",
    "for n_w in [8,7,6,5]:\n",
    "    for n_l in [3,4,5,6]:\n",
    "        for types in [\"hardware_efficient_ansatz\",\"StronglyEntanglingLayers\",\"simplified_two_design\"]:\n",
    "            def cost(weights ,X, Y):\n",
    "                predictions = [Classify_circuit(states=x, reduced_dimension=2,target_state_dimension=5,\n",
    "                                                classify_dimesion=n_w,ansatz_type=types,weights=weights)  for index ,x in enumerate (X)]\n",
    "                return square_loss(Y, predictions)\n",
    "            opt = qml.AdamOptimizer(0.04)\n",
    "            if types == \"StronglyEntanglingLayers\":\n",
    "                shape1 = qml.StronglyEntanglingLayers.shape(n_layers=n_l, n_wires=n_w)\n",
    "                weights = np.random.random(size=shape1)\n",
    "            if types == \"hardware_efficient_ansatz\":\n",
    "                weights=generate_weights(num_wires=n_w,num_layers=n_l)\n",
    "            if types == \"simplified_two_design\":\n",
    "                weights=simplified_two_design_weights(num_layers=n_l,num_wires=n_w) \n",
    "            batch_size = 64\n",
    "            costs=[]\n",
    "            acc_list=[]\n",
    "            # 训练模型\n",
    "            for it in range(100):\n",
    "                # Update the weights by one optimizer step, using only a limited batch of data\n",
    "                batch_index = np.random.randint(0, len(X_train), (batch_size,))\n",
    "                X_batch =[]\n",
    "                Y_batch=[]\n",
    "                for i in batch_index:\n",
    "                    X_batch.append(X_train[i])\n",
    "                    Y_batch.append(y_train[i])\n",
    "                weights = opt.step(cost, weights, X=X_batch, Y=Y_batch)\n",
    "\n",
    "                # Compute accuracy\n",
    "                predictions = [np.sign(Classify_circuit(states=x, reduced_dimension=2,target_state_dimension=5,\n",
    "                                                classify_dimesion=n_w,ansatz_type=types,weights=weights)) for index ,x in enumerate (X_batch)]\n",
    "                # predictions = [np.sign(Classify_circuit(states=x, reduced_dimension=2,target_state_dimension=2,\n",
    "                #                                 classify_dimesion=3,weights=weights)) for index ,x in enumerate (X_batch)]\n",
    "                current_cost = cost(weights, X_batch, Y_batch)\n",
    "                costs.append(current_cost)\n",
    "                acc = accuracy(Y_batch, predictions)\n",
    "                acc_list.append(acc)\n",
    "\n",
    "                print(f\"Iter: {it+1:4d} | Cost: {current_cost:0.7f} | Accuracy: {acc:0.7f}\")\n",
    "            toltal_acc.append(acc_list)\n",
    "            toltal_cost.append(costs)\n",
    "            save_weights.append(weights)"
   ]
  }
 ],
 "metadata": {
  "language_info": {
   "name": "python"
  }
 },
 "nbformat": 4,
 "nbformat_minor": 5
}
