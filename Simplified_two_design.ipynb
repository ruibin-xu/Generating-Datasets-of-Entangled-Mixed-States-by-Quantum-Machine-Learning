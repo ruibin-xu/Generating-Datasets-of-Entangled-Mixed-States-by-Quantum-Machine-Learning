{
 "cells": [
  {
   "cell_type": "code",
   "execution_count": null,
   "metadata": {},
   "outputs": [],
   "source": [
    "from pennylane import numpy as np\n",
    "import pennylane as qml"
   ]
  },
  {
   "cell_type": "code",
   "execution_count": 5,
   "metadata": {},
   "outputs": [],
   "source": [
    "def simplified_two_design(wires, weights):\n",
    "    \"\"\"\n",
    "    Implements a simplified 2-design circuit using a single weights vector.\n",
    "    \n",
    "    Args:\n",
    "        wires (list[int]): List of qubit wires.\n",
    "        weights (list[float]): A flat list of rotation angles for all layers.\n",
    "                               The length of weights should be num_wires + num_layers * 2 * (num_wires - 1).\n",
    "    \"\"\"\n",
    "    num_wires = len(wires)\n",
    "    # Compute the number of layers\n",
    "    num_layers = (len(weights) - num_wires) // (2 * (num_wires - 1))\n",
    "    assert len(weights) == num_wires + num_layers * 2 * (num_wires - 1), \\\n",
    "        \"Invalid number of weights for the given circuit structure.\"\n",
    "\n",
    "    idx = 0  # Initialize an index to track which part of the weights is being used\n",
    "\n",
    "    # Initial Layer: Apply RY gates to each qubit\n",
    "    for wire in wires:\n",
    "        qml.RY(weights[idx], wires=wire)\n",
    "        idx += 1\n",
    "\n",
    "    # Layers\n",
    "    for _ in range(num_layers):\n",
    "        # Even Part: CZ gates starting at the first wire\n",
    "        for i in range(0, num_wires - 1, 2):\n",
    "            if i + 1 <= num_wires:  # Check if within bounds\n",
    "                qml.CZ(wires=(wires[i], wires[i + 1]))\n",
    "\n",
    "        # Apply RY gates for the even part on the first (num_wires - 1) wires\n",
    "        for i in range(num_wires - 1):\n",
    "            qml.RY(weights[idx], wires=wires[i])\n",
    "            idx += 1\n",
    "\n",
    "        # Odd Part: CZ gates starting at the second wire\n",
    "        for i in range(1, num_wires - 1, 2):\n",
    "            if i + 1 <+ num_wires:  # Check if within bounds\n",
    "                qml.CZ(wires=(wires[i], wires[i + 1]))\n",
    "\n",
    "        # Apply RY gates for the odd part on the last (num_wires - 1) wires\n",
    "        for i in range(1, num_wires):\n",
    "            qml.RY(weights[idx], wires=wires[i])\n",
    "            idx += 1\n",
    "def simplified_two_design_weights(num_wires, num_layers):\n",
    "    \"\"\"\n",
    "    Generates a SimplifiedTwoDesign circuit with specified number of wires and layers, \n",
    "    and assigns random weights in the range [0, 2π].\n",
    "\n",
    "    Args:\n",
    "        num_wires (int): Number of qubits in the circuit.\n",
    "        num_layers (int): Number of layers in the circuit.\n",
    "\n",
    "    Returns:\n",
    "        list: Generated weights for the circuit (randomized).\n",
    "    \"\"\"\n",
    "    # Calculate the total number of weights\n",
    "    weights_length = num_wires + num_layers * 2 * (num_wires - 1)\n",
    "    \n",
    "    # Generate random weights in the range [0, 2π]\n",
    "    weights = np.random.uniform(0, 2 * np.pi, size=weights_length)\n",
    "    return weights"
   ]
  },
  {
   "cell_type": "code",
   "execution_count": null,
   "metadata": {},
   "outputs": [],
   "source": []
  }
 ],
 "metadata": {
  "kernelspec": {
   "display_name": "pennylane_env1",
   "language": "python",
   "name": "python3"
  },
  "language_info": {
   "codemirror_mode": {
    "name": "ipython",
    "version": 3
   },
   "file_extension": ".py",
   "mimetype": "text/x-python",
   "name": "python",
   "nbconvert_exporter": "python",
   "pygments_lexer": "ipython3",
   "version": "3.9.20"
  }
 },
 "nbformat": 4,
 "nbformat_minor": 2
}
